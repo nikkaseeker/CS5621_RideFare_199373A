{
 "cells": [
  {
   "cell_type": "code",
   "execution_count": 1,
   "metadata": {},
   "outputs": [],
   "source": [
    "import pandas as pd\n",
    "import numpy as np\n",
    "import matplotlib.pyplot as pyplot\n",
    "from numpy import where\n",
    "\n",
    "from collections import Counter\n",
    "#from imblearn import under_sampling, over_sampling\n",
    "#from imblearn.over_sampling import SMOTE\n",
    "\n",
    "from sklearn.svm import SVC\n",
    "\n",
    "from sklearn.model_selection import train_test_split\n",
    "from sklearn.metrics import confusion_matrix, classification_report, accuracy_score"
   ]
  },
  {
   "cell_type": "code",
   "execution_count": 2,
   "metadata": {
    "scrolled": true
   },
   "outputs": [
    {
     "name": "stdout",
     "output_type": "stream",
     "text": [
      "<class 'pandas.core.frame.DataFrame'>\n",
      "Int64Index: 17176 entries, 189123628 to 213817296\n",
      "Data columns (total 13 columns):\n",
      "additional_fare              16974 non-null float64\n",
      "duration                     16974 non-null float64\n",
      "meter_waiting                16974 non-null float64\n",
      "meter_waiting_fare           16974 non-null float64\n",
      "meter_waiting_till_pickup    16974 non-null float64\n",
      "pickup_time                  17176 non-null object\n",
      "drop_time                    17176 non-null object\n",
      "pick_lat                     17176 non-null float64\n",
      "pick_lon                     17176 non-null float64\n",
      "drop_lat                     17176 non-null float64\n",
      "drop_lon                     17176 non-null float64\n",
      "fare                         17039 non-null float64\n",
      "label                        17176 non-null object\n",
      "dtypes: float64(10), object(3)\n",
      "memory usage: 1.8+ MB\n"
     ]
    }
   ],
   "source": [
    "# Remove unnesasary columns from the data frame\n",
    "data = pd.read_csv('train.csv', index_col=0)\n",
    "data.info()"
   ]
  },
  {
   "cell_type": "code",
   "execution_count": 3,
   "metadata": {},
   "outputs": [],
   "source": [
    "def haversine_distance(pick_lan, pick_lon, drop_lan, drop_lon):\n",
    "    pick_lan, pick_lon, drop_lan, drop_lon = map(np.radians, [pick_lan, pick_lon, drop_lan, drop_lon])\n",
    "    dlan = pick_lan - drop_lan\n",
    "    dlon = pick_lon - drop_lon\n",
    "    \n",
    "    a = np.sin(dlan/2.0)**2 + np.cos(pick_lan) * np.cos(pick_lan) * np.sin(dlon/2.0)**2\n",
    "    distance = 2 * np.arcsin(np.sqrt(a)) * 6367\n",
    "    return distance"
   ]
  },
  {
   "cell_type": "code",
   "execution_count": 4,
   "metadata": {},
   "outputs": [],
   "source": [
    "data['distance'] = haversine_distance(data['pick_lat'], data['pick_lon'], data['drop_lat'], data['drop_lon'])"
   ]
  },
  {
   "cell_type": "code",
   "execution_count": 5,
   "metadata": {},
   "outputs": [],
   "source": [
    "cols = ['pick_lat', \n",
    "        'pick_lon', \n",
    "        'drop_lat', \n",
    "        'drop_lon']\n",
    "data = data.drop(cols, axis=1)"
   ]
  },
  {
   "cell_type": "code",
   "execution_count": 6,
   "metadata": {},
   "outputs": [],
   "source": [
    "data[['pickup_time','drop_time']] = data[['pickup_time','drop_time']].apply(pd.to_datetime)\n",
    "data['duration_from_time'] = (data['drop_time'] - data['pickup_time']).dt.total_seconds()"
   ]
  },
  {
   "cell_type": "code",
   "execution_count": 7,
   "metadata": {},
   "outputs": [],
   "source": [
    "cols = ['drop_time', \n",
    "        'pickup_time']\n",
    "data = data.drop(cols, axis=1)"
   ]
  },
  {
   "cell_type": "code",
   "execution_count": 8,
   "metadata": {},
   "outputs": [
    {
     "name": "stdout",
     "output_type": "stream",
     "text": [
      "<class 'pandas.core.frame.DataFrame'>\n",
      "Int64Index: 17176 entries, 189123628 to 213817296\n",
      "Data columns (total 9 columns):\n",
      "additional_fare              16974 non-null float64\n",
      "duration                     16974 non-null float64\n",
      "meter_waiting                16974 non-null float64\n",
      "meter_waiting_fare           16974 non-null float64\n",
      "meter_waiting_till_pickup    16974 non-null float64\n",
      "fare                         17039 non-null float64\n",
      "label                        17176 non-null object\n",
      "distance                     17176 non-null float64\n",
      "duration_from_time           17176 non-null float64\n",
      "dtypes: float64(8), object(1)\n",
      "memory usage: 1.3+ MB\n"
     ]
    }
   ],
   "source": [
    "data.info()"
   ]
  },
  {
   "cell_type": "code",
   "execution_count": 9,
   "metadata": {},
   "outputs": [],
   "source": [
    "#drop null rows of fare\n",
    "#fill null values of duration from calculated new time duration column\n",
    "data = data.dropna(subset=['fare'])\n",
    "data.duration.fillna(data.duration_from_time, inplace=True)\n",
    "data = data.fillna(0)"
   ]
  },
  {
   "cell_type": "code",
   "execution_count": 10,
   "metadata": {},
   "outputs": [
    {
     "name": "stdout",
     "output_type": "stream",
     "text": [
      "<class 'pandas.core.frame.DataFrame'>\n",
      "Int64Index: 17039 entries, 189123628 to 213817296\n",
      "Data columns (total 9 columns):\n",
      "additional_fare              17039 non-null float64\n",
      "duration                     17039 non-null float64\n",
      "meter_waiting                17039 non-null float64\n",
      "meter_waiting_fare           17039 non-null float64\n",
      "meter_waiting_till_pickup    17039 non-null float64\n",
      "fare                         17039 non-null float64\n",
      "label                        17039 non-null object\n",
      "distance                     17039 non-null float64\n",
      "duration_from_time           17039 non-null float64\n",
      "dtypes: float64(8), object(1)\n",
      "memory usage: 1.3+ MB\n"
     ]
    }
   ],
   "source": [
    "data.info()"
   ]
  },
  {
   "cell_type": "code",
   "execution_count": 11,
   "metadata": {},
   "outputs": [],
   "source": [
    "x = data\n",
    "x = x.drop(['label'], axis=1)\n",
    "y = data['label']\n",
    "classes = ['correct', 'incorrect']"
   ]
  },
  {
   "cell_type": "code",
   "execution_count": 12,
   "metadata": {},
   "outputs": [
    {
     "name": "stdout",
     "output_type": "stream",
     "text": [
      "Counter({'correct': 15495, 'incorrect': 1544})\n"
     ]
    }
   ],
   "source": [
    "counter = Counter(y)\n",
    "print(counter)"
   ]
  },
  {
   "cell_type": "code",
   "execution_count": 13,
   "metadata": {},
   "outputs": [
    {
     "data": {
      "image/png": "[encoded data removed]",
      "text/plain": [
       "<Figure size 432x288 with 1 Axes>"
      ]
     },
     "metadata": {
      "needs_background": "light"
     },
     "output_type": "display_data"
    }
   ],
   "source": [
    "colors = {'correct':'red', 'incorrect':'blue'}\n",
    "fig, ax = pyplot.subplots()\n",
    "\n",
    "grouped = data.groupby('label')\n",
    "for key, group in grouped:\n",
    "    group.plot(ax=ax, kind='scatter', x='fare', y='duration', label=key, color=colors[key])\n",
    "pyplot.show()"
   ]
  },
  {
   "cell_type": "code",
   "execution_count": 14,
   "metadata": {},
   "outputs": [],
   "source": [
    "#oversample = SMOTE()\n",
    "#x,y = oversample.fit_resample(x,y)"
   ]
  },
  {
   "cell_type": "code",
   "execution_count": 15,
   "metadata": {},
   "outputs": [
    {
     "name": "stdout",
     "output_type": "stream",
     "text": [
      "Counter({'correct': 15495, 'incorrect': 1544})\n"
     ]
    }
   ],
   "source": [
    "counter = Counter(y)\n",
    "print(counter)"
   ]
  },
  {
   "cell_type": "code",
   "execution_count": 16,
   "metadata": {},
   "outputs": [],
   "source": [
    "# Split training and test data set\n",
    "x_train, x_test, y_train, y_test = train_test_split(x, y, test_size = 0.35, random_state = 42) "
   ]
  },
  {
   "cell_type": "code",
   "execution_count": null,
   "metadata": {},
   "outputs": [],
   "source": [
    "classifier = SVC(kernel='linear')\n",
    "classifier.fit(x_train, y_train)\n",
    "y_pred = classifier.predict(x_test)"
   ]
  },
  {
   "cell_type": "code",
   "execution_count": null,
   "metadata": {},
   "outputs": [],
   "source": [
    "cfm = confusion_matrix(y_test, y_pred)"
   ]
  },
  {
   "cell_type": "code",
   "execution_count": null,
   "metadata": {},
   "outputs": [],
   "source": [
    "acc_score = accuracy_score(y_test.values, y_pred)"
   ]
  },
  {
   "cell_type": "code",
   "execution_count": null,
   "metadata": {},
   "outputs": [],
   "source": [
    "print(classification_report(y_test.values, y_pred, target_names=classes))\n",
    "print('Correct Predictions ',acc_score)"
   ]
  },
  {
   "cell_type": "code",
   "execution_count": null,
   "metadata": {},
   "outputs": [],
   "source": []
  }
 ],
 "metadata": {
  "kernelspec": {
   "display_name": "Python 3",
   "language": "python",
   "name": "python3"
  },
  "language_info": {
   "codemirror_mode": {
    "name": "ipython",
    "version": 3
   },
   "file_extension": ".py",
   "mimetype": "text/x-python",
   "name": "python",
   "nbconvert_exporter": "python",
   "pygments_lexer": "ipython3",
   "version": "3.7.2"
  }
 },
 "nbformat": 4,
 "nbformat_minor": 2
}
